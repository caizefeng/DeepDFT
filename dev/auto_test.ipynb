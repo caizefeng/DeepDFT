{
 "cells": [
  {
   "cell_type": "code",
   "execution_count": 40,
   "metadata": {
    "ExecuteTime": {
     "end_time": "2019-09-12T16:33:03.724402Z",
     "start_time": "2019-09-12T16:33:03.718318Z"
    }
   },
   "outputs": [],
   "source": [
    "import os\n",
    "import sys\n",
    "import numpy as np\n",
    "from scipy.spatial import distance\n",
    "from numba import jit\n",
    "from tqdm import tqdm_notebook"
   ]
  },
  {
   "cell_type": "code",
   "execution_count": 342,
   "metadata": {
    "ExecuteTime": {
     "end_time": "2019-09-11T05:58:09.395135Z",
     "start_time": "2019-09-11T05:58:09.390600Z"
    }
   },
   "outputs": [],
   "source": [
    "# def get_des(dir_name, descriptor_type ,parent_path=''):"
   ]
  },
  {
   "cell_type": "code",
   "execution_count": 54,
   "metadata": {
    "ExecuteTime": {
     "end_time": "2019-09-12T16:33:52.348473Z",
     "start_time": "2019-09-12T16:33:52.326371Z"
    }
   },
   "outputs": [],
   "source": [
    "def grid_based_charge_train(dir_name, sigma, parent_path=''):\n",
    "    vec, coor_list, chg, ngxf, ngyf, ngzf = split_read_chgcar(\n",
    "        dir_name, parent_path)\n",
    "\n",
    "    chg_den_flat = charge_label(vec, chg)  # charge data manipulation\n",
    "    charge_arr = chg_den_flat.reshape((-1, 1))\n",
    "\n",
    "    coor_cart_list = dir2cart(vec, coor_list)\n",
    "\n",
    "    sigma_size = sigma.size\n",
    "    des_arr_all = np.zeros(\n",
    "        (ngxf * ngyf * ngzf, 5 * sigma_size * len(coor_list)))\n",
    "    grid_coor = grid_gen_nb(ngxf, ngyf, ngzf, vec)\n",
    "\n",
    "    for i, coor_cart in tqdm_notebook(enumerate(coor_cart_list)):\n",
    "\n",
    "        start_index = 5 * sigma_size * i  # starting index of each element\n",
    "        end_index = 5 * sigma_size * (i + 1)  # ending index of each element\n",
    "\n",
    "        dist_arr_stage_0 = comp_gen(grid_coor, coor_cart)\n",
    "        dist_arr_stage_1 = dist_gen(dist_arr_stage_0, grid_coor, coor_cart)\n",
    "        dist_arr_list = batch_gen(dist_arr_stage_1, 50000)\n",
    "\n",
    "        pointer_grid = 0\n",
    "        for dist_arr in tqdm_notebook(dist_arr_list):\n",
    "            \n",
    "            step_forward = dist_arr.shape[0]\n",
    "            \n",
    "            s_ini, v_ini, t_ini = des_rudi_gen(dist_arr, sigma)\n",
    "            des_arr = invar_gen(s_ini, v_ini, t_ini)\n",
    "\n",
    "            des_arr_all[pointer_grid:(pointer_grid + step_forward),\n",
    "                        start_index:end_index] = des_arr\n",
    "\n",
    "            pointer_grid += step_forward\n",
    "    \n",
    "    os.chdir('/'.join((parent_path, dir_name)))\n",
    "    np.save(\"x.npy\", des_arr_all)\n",
    "    np.save(\"y_charge.npy\", charge_arr)    \n",
    "    os.chdir(sys.path[0])\n",
    "    "
   ]
  },
  {
   "cell_type": "code",
   "execution_count": 54,
   "metadata": {
    "ExecuteTime": {
     "end_time": "2019-09-12T16:33:52.348473Z",
     "start_time": "2019-09-12T16:33:52.326371Z"
    }
   },
   "outputs": [],
   "source": [
    "def grid_based_charge_predict(dir_name, sigma, parent_path=''):\n",
    "    vec, coor_list, is_cart = read_poscar(dir_name, parent_path='')\n",
    "    encut, prec = read_incar(['ENCUT','PREC'], dir_name, parent_path)\n",
    "    \n",
    "    ngxf, ngyf, ngzf = ngf_regen(encut, prec)\n",
    "    \n",
    "#     chg_den_flat = charge_label(vec, chg)  # charge data manipulation\n",
    "#     charge_arr = chg_den_flat.reshape((-1, 1))\n",
    "    if not is_cart:\n",
    "        coor_cart_list = dir2cart(vec, coor_list)\n",
    "    else:\n",
    "        coor_cart_list = coor_list\n",
    "    \n",
    "    sigma_size = sigma.size\n",
    "    des_arr_all = np.zeros(\n",
    "        (ngxf * ngyf * ngzf, 5 * sigma_size * len(coor_list)))\n",
    "    grid_coor = grid_gen_nb(ngxf, ngyf, ngzf, vec)\n",
    "\n",
    "    for i, coor_cart in tqdm_notebook(enumerate(coor_cart_list)):\n",
    "\n",
    "        start_index = 5 * sigma_size * i  # starting index of each element\n",
    "        end_index = 5 * sigma_size * (i + 1)  # ending index of each element\n",
    "\n",
    "        dist_arr_stage_0 = comp_gen(grid_coor, coor_cart)\n",
    "        dist_arr_stage_1 = dist_gen(dist_arr_stage_0, grid_coor, coor_cart)\n",
    "        dist_arr_list = batch_gen(dist_arr_stage_1, 50000)\n",
    "\n",
    "        pointer_grid = 0\n",
    "        for dist_arr in tqdm_notebook(dist_arr_list):\n",
    "            \n",
    "            step_forward = dist_arr.shape[0]\n",
    "            \n",
    "            s_ini, v_ini, t_ini = des_rudi_gen(dist_arr, sigma)\n",
    "            des_arr = invar_gen(s_ini, v_ini, t_ini)\n",
    "\n",
    "            des_arr_all[pointer_grid:(pointer_grid + step_forward),\n",
    "                        start_index:end_index] = des_arr\n",
    "\n",
    "            pointer_grid += step_forward\n",
    "    \n",
    "    os.chdir('/'.join((parent_path, dir_name)))\n",
    "    np.save(\"x.npy\", des_arr_all)\n",
    "    np.save(\"y_charge.npy\", charge_arr)    \n",
    "    os.chdir(sys.path[0])\n",
    "    "
   ]
  },
  {
   "cell_type": "code",
   "execution_count": 55,
   "metadata": {
    "ExecuteTime": {
     "end_time": "2019-09-13T01:27:55.701715Z",
     "start_time": "2019-09-12T16:33:57.347206Z"
    },
    "collapsed": true
   },
   "outputs": [
    {
     "data": {
      "application/vnd.jupyter.widget-view+json": {
       "model_id": "4fe74bd530d84c40b953a1ac085cd649",
       "version_major": 2,
       "version_minor": 0
      },
      "text/plain": [
       "HBox(children=(IntProgress(value=0, max=20), HTML(value='')))"
      ]
     },
     "metadata": {},
     "output_type": "display_data"
    },
    {
     "data": {
      "application/vnd.jupyter.widget-view+json": {
       "model_id": "066500e718d3479f80938ea478626a21",
       "version_major": 2,
       "version_minor": 0
      },
      "text/plain": [
       "HBox(children=(IntProgress(value=1, bar_style='info', max=1), HTML(value='')))"
      ]
     },
     "metadata": {},
     "output_type": "display_data"
    },
    {
     "data": {
      "application/vnd.jupyter.widget-view+json": {
       "model_id": "2944d224a31b4623a3a8d4924b7c140d",
       "version_major": 2,
       "version_minor": 0
      },
      "text/plain": [
       "HBox(children=(IntProgress(value=0, max=166), HTML(value='')))"
      ]
     },
     "metadata": {},
     "output_type": "display_data"
    },
    {
     "name": "stdout",
     "output_type": "stream",
     "text": [
      "\n",
      "\n"
     ]
    },
    {
     "data": {
      "application/vnd.jupyter.widget-view+json": {
       "model_id": "14e426cb119b452fa0e06a141d349818",
       "version_major": 2,
       "version_minor": 0
      },
      "text/plain": [
       "HBox(children=(IntProgress(value=1, bar_style='info', max=1), HTML(value='')))"
      ]
     },
     "metadata": {},
     "output_type": "display_data"
    },
    {
     "data": {
      "application/vnd.jupyter.widget-view+json": {
       "model_id": "69360365b6334f8cb86554b203f67299",
       "version_major": 2,
       "version_minor": 0
      },
      "text/plain": [
       "HBox(children=(IntProgress(value=0, max=166), HTML(value='')))"
      ]
     },
     "metadata": {},
     "output_type": "display_data"
    },
    {
     "name": "stdout",
     "output_type": "stream",
     "text": [
      "\n",
      "\n"
     ]
    },
    {
     "data": {
      "application/vnd.jupyter.widget-view+json": {
       "model_id": "dfdc3ff843f7456280507cfdf9822c22",
       "version_major": 2,
       "version_minor": 0
      },
      "text/plain": [
       "HBox(children=(IntProgress(value=1, bar_style='info', max=1), HTML(value='')))"
      ]
     },
     "metadata": {},
     "output_type": "display_data"
    },
    {
     "data": {
      "application/vnd.jupyter.widget-view+json": {
       "model_id": "e1281d95d8bd4f5898b6a86eef19e240",
       "version_major": 2,
       "version_minor": 0
      },
      "text/plain": [
       "HBox(children=(IntProgress(value=0, max=166), HTML(value='')))"
      ]
     },
     "metadata": {},
     "output_type": "display_data"
    },
    {
     "name": "stdout",
     "output_type": "stream",
     "text": [
      "\n",
      "\n"
     ]
    },
    {
     "data": {
      "application/vnd.jupyter.widget-view+json": {
       "model_id": "aa20d04ddaa542fabf58857fb37a6383",
       "version_major": 2,
       "version_minor": 0
      },
      "text/plain": [
       "HBox(children=(IntProgress(value=1, bar_style='info', max=1), HTML(value='')))"
      ]
     },
     "metadata": {},
     "output_type": "display_data"
    },
    {
     "data": {
      "application/vnd.jupyter.widget-view+json": {
       "model_id": "a1f6b447926d42b188f0e9e3b2250e99",
       "version_major": 2,
       "version_minor": 0
      },
      "text/plain": [
       "HBox(children=(IntProgress(value=0, max=166), HTML(value='')))"
      ]
     },
     "metadata": {},
     "output_type": "display_data"
    },
    {
     "name": "stdout",
     "output_type": "stream",
     "text": [
      "\n",
      "\n"
     ]
    },
    {
     "data": {
      "application/vnd.jupyter.widget-view+json": {
       "model_id": "f8cca07fa19245a1ae2de7202c6b72a9",
       "version_major": 2,
       "version_minor": 0
      },
      "text/plain": [
       "HBox(children=(IntProgress(value=1, bar_style='info', max=1), HTML(value='')))"
      ]
     },
     "metadata": {},
     "output_type": "display_data"
    },
    {
     "data": {
      "application/vnd.jupyter.widget-view+json": {
       "model_id": "9da736c2de2f4d70a739de7e0c851035",
       "version_major": 2,
       "version_minor": 0
      },
      "text/plain": [
       "HBox(children=(IntProgress(value=0, max=166), HTML(value='')))"
      ]
     },
     "metadata": {},
     "output_type": "display_data"
    },
    {
     "name": "stdout",
     "output_type": "stream",
     "text": [
      "\n",
      "\n"
     ]
    },
    {
     "data": {
      "application/vnd.jupyter.widget-view+json": {
       "model_id": "f0807fed881147d58250ef437918caf8",
       "version_major": 2,
       "version_minor": 0
      },
      "text/plain": [
       "HBox(children=(IntProgress(value=1, bar_style='info', max=1), HTML(value='')))"
      ]
     },
     "metadata": {},
     "output_type": "display_data"
    },
    {
     "data": {
      "application/vnd.jupyter.widget-view+json": {
       "model_id": "ba3b68ceb497407fa2771a862a2aeb6b",
       "version_major": 2,
       "version_minor": 0
      },
      "text/plain": [
       "HBox(children=(IntProgress(value=0, max=166), HTML(value='')))"
      ]
     },
     "metadata": {},
     "output_type": "display_data"
    },
    {
     "name": "stdout",
     "output_type": "stream",
     "text": [
      "\n",
      "\n"
     ]
    },
    {
     "data": {
      "application/vnd.jupyter.widget-view+json": {
       "model_id": "ee6a48a6d3ee422e964d23953fe02928",
       "version_major": 2,
       "version_minor": 0
      },
      "text/plain": [
       "HBox(children=(IntProgress(value=1, bar_style='info', max=1), HTML(value='')))"
      ]
     },
     "metadata": {},
     "output_type": "display_data"
    },
    {
     "data": {
      "application/vnd.jupyter.widget-view+json": {
       "model_id": "31359b0acd06411194bd5b7c3dadb582",
       "version_major": 2,
       "version_minor": 0
      },
      "text/plain": [
       "HBox(children=(IntProgress(value=0, max=166), HTML(value='')))"
      ]
     },
     "metadata": {},
     "output_type": "display_data"
    },
    {
     "name": "stdout",
     "output_type": "stream",
     "text": [
      "\n",
      "\n"
     ]
    },
    {
     "data": {
      "application/vnd.jupyter.widget-view+json": {
       "model_id": "8229c0a07f4549bb898ca5776af89f6e",
       "version_major": 2,
       "version_minor": 0
      },
      "text/plain": [
       "HBox(children=(IntProgress(value=1, bar_style='info', max=1), HTML(value='')))"
      ]
     },
     "metadata": {},
     "output_type": "display_data"
    },
    {
     "data": {
      "application/vnd.jupyter.widget-view+json": {
       "model_id": "0b9d6fa269f04908865e3c9ce3985c2b",
       "version_major": 2,
       "version_minor": 0
      },
      "text/plain": [
       "HBox(children=(IntProgress(value=0, max=166), HTML(value='')))"
      ]
     },
     "metadata": {},
     "output_type": "display_data"
    },
    {
     "name": "stdout",
     "output_type": "stream",
     "text": [
      "\n",
      "\n"
     ]
    },
    {
     "data": {
      "application/vnd.jupyter.widget-view+json": {
       "model_id": "41fb42ed71f945b68b214b6938c024aa",
       "version_major": 2,
       "version_minor": 0
      },
      "text/plain": [
       "HBox(children=(IntProgress(value=1, bar_style='info', max=1), HTML(value='')))"
      ]
     },
     "metadata": {},
     "output_type": "display_data"
    },
    {
     "data": {
      "application/vnd.jupyter.widget-view+json": {
       "model_id": "afd51a7068d142d491164dd0e859ae62",
       "version_major": 2,
       "version_minor": 0
      },
      "text/plain": [
       "HBox(children=(IntProgress(value=0, max=166), HTML(value='')))"
      ]
     },
     "metadata": {},
     "output_type": "display_data"
    },
    {
     "name": "stdout",
     "output_type": "stream",
     "text": [
      "\n",
      "\n"
     ]
    },
    {
     "data": {
      "application/vnd.jupyter.widget-view+json": {
       "model_id": "0a13957d5a26417282ac16b039c715a8",
       "version_major": 2,
       "version_minor": 0
      },
      "text/plain": [
       "HBox(children=(IntProgress(value=1, bar_style='info', max=1), HTML(value='')))"
      ]
     },
     "metadata": {},
     "output_type": "display_data"
    },
    {
     "data": {
      "application/vnd.jupyter.widget-view+json": {
       "model_id": "62fec98835f44f128d3e4de13d72e5d2",
       "version_major": 2,
       "version_minor": 0
      },
      "text/plain": [
       "HBox(children=(IntProgress(value=0, max=166), HTML(value='')))"
      ]
     },
     "metadata": {},
     "output_type": "display_data"
    },
    {
     "name": "stdout",
     "output_type": "stream",
     "text": [
      "\n",
      "\n"
     ]
    },
    {
     "data": {
      "application/vnd.jupyter.widget-view+json": {
       "model_id": "c35e206ffce14b2d8ef71b8196d979e6",
       "version_major": 2,
       "version_minor": 0
      },
      "text/plain": [
       "HBox(children=(IntProgress(value=1, bar_style='info', max=1), HTML(value='')))"
      ]
     },
     "metadata": {},
     "output_type": "display_data"
    },
    {
     "data": {
      "application/vnd.jupyter.widget-view+json": {
       "model_id": "6f2427a37e9344d3ae0b97f19eac56bf",
       "version_major": 2,
       "version_minor": 0
      },
      "text/plain": [
       "HBox(children=(IntProgress(value=0, max=166), HTML(value='')))"
      ]
     },
     "metadata": {},
     "output_type": "display_data"
    },
    {
     "name": "stdout",
     "output_type": "stream",
     "text": [
      "\n",
      "\n"
     ]
    },
    {
     "data": {
      "application/vnd.jupyter.widget-view+json": {
       "model_id": "7c79e620ab424bc0acf3ace65f3c3826",
       "version_major": 2,
       "version_minor": 0
      },
      "text/plain": [
       "HBox(children=(IntProgress(value=1, bar_style='info', max=1), HTML(value='')))"
      ]
     },
     "metadata": {},
     "output_type": "display_data"
    },
    {
     "data": {
      "application/vnd.jupyter.widget-view+json": {
       "model_id": "a08330ce4abd4db48545fbd0530cd55d",
       "version_major": 2,
       "version_minor": 0
      },
      "text/plain": [
       "HBox(children=(IntProgress(value=0, max=166), HTML(value='')))"
      ]
     },
     "metadata": {},
     "output_type": "display_data"
    },
    {
     "name": "stdout",
     "output_type": "stream",
     "text": [
      "\n",
      "\n"
     ]
    },
    {
     "data": {
      "application/vnd.jupyter.widget-view+json": {
       "model_id": "7941816b7f3c405792ba7929686ff105",
       "version_major": 2,
       "version_minor": 0
      },
      "text/plain": [
       "HBox(children=(IntProgress(value=1, bar_style='info', max=1), HTML(value='')))"
      ]
     },
     "metadata": {},
     "output_type": "display_data"
    },
    {
     "data": {
      "application/vnd.jupyter.widget-view+json": {
       "model_id": "85ef6e120c9e4ae7abfb08ae7aece65b",
       "version_major": 2,
       "version_minor": 0
      },
      "text/plain": [
       "HBox(children=(IntProgress(value=0, max=166), HTML(value='')))"
      ]
     },
     "metadata": {},
     "output_type": "display_data"
    },
    {
     "name": "stdout",
     "output_type": "stream",
     "text": [
      "\n",
      "\n"
     ]
    },
    {
     "data": {
      "application/vnd.jupyter.widget-view+json": {
       "model_id": "58a513f101114693b5b16332f056a05c",
       "version_major": 2,
       "version_minor": 0
      },
      "text/plain": [
       "HBox(children=(IntProgress(value=1, bar_style='info', max=1), HTML(value='')))"
      ]
     },
     "metadata": {},
     "output_type": "display_data"
    },
    {
     "data": {
      "application/vnd.jupyter.widget-view+json": {
       "model_id": "ca2a8f4735144a11948284d3bc239ef5",
       "version_major": 2,
       "version_minor": 0
      },
      "text/plain": [
       "HBox(children=(IntProgress(value=0, max=166), HTML(value='')))"
      ]
     },
     "metadata": {},
     "output_type": "display_data"
    },
    {
     "name": "stdout",
     "output_type": "stream",
     "text": [
      "\n",
      "\n"
     ]
    },
    {
     "data": {
      "application/vnd.jupyter.widget-view+json": {
       "model_id": "4eb3a4263cc240bbb6e43ead08e350a1",
       "version_major": 2,
       "version_minor": 0
      },
      "text/plain": [
       "HBox(children=(IntProgress(value=1, bar_style='info', max=1), HTML(value='')))"
      ]
     },
     "metadata": {},
     "output_type": "display_data"
    },
    {
     "data": {
      "application/vnd.jupyter.widget-view+json": {
       "model_id": "ebe4bb8ee95444fc8dc1686f5a83dee0",
       "version_major": 2,
       "version_minor": 0
      },
      "text/plain": [
       "HBox(children=(IntProgress(value=0, max=166), HTML(value='')))"
      ]
     },
     "metadata": {},
     "output_type": "display_data"
    },
    {
     "name": "stdout",
     "output_type": "stream",
     "text": [
      "\n",
      "\n"
     ]
    },
    {
     "data": {
      "application/vnd.jupyter.widget-view+json": {
       "model_id": "c20e23e3eb504a2b986f68eb403ffb00",
       "version_major": 2,
       "version_minor": 0
      },
      "text/plain": [
       "HBox(children=(IntProgress(value=1, bar_style='info', max=1), HTML(value='')))"
      ]
     },
     "metadata": {},
     "output_type": "display_data"
    },
    {
     "data": {
      "application/vnd.jupyter.widget-view+json": {
       "model_id": "afca97a5856f4db9b53951c347a8664e",
       "version_major": 2,
       "version_minor": 0
      },
      "text/plain": [
       "HBox(children=(IntProgress(value=0, max=166), HTML(value='')))"
      ]
     },
     "metadata": {},
     "output_type": "display_data"
    },
    {
     "name": "stdout",
     "output_type": "stream",
     "text": [
      "\n",
      "\n"
     ]
    },
    {
     "data": {
      "application/vnd.jupyter.widget-view+json": {
       "model_id": "c3aa2ec2cf15448b8b136663de492fd5",
       "version_major": 2,
       "version_minor": 0
      },
      "text/plain": [
       "HBox(children=(IntProgress(value=1, bar_style='info', max=1), HTML(value='')))"
      ]
     },
     "metadata": {},
     "output_type": "display_data"
    },
    {
     "data": {
      "application/vnd.jupyter.widget-view+json": {
       "model_id": "199aaf374a744e70a3b61ffe79850442",
       "version_major": 2,
       "version_minor": 0
      },
      "text/plain": [
       "HBox(children=(IntProgress(value=0, max=166), HTML(value='')))"
      ]
     },
     "metadata": {},
     "output_type": "display_data"
    },
    {
     "name": "stdout",
     "output_type": "stream",
     "text": [
      "\n",
      "\n"
     ]
    },
    {
     "data": {
      "application/vnd.jupyter.widget-view+json": {
       "model_id": "7c38483b31e248698353199384e74347",
       "version_major": 2,
       "version_minor": 0
      },
      "text/plain": [
       "HBox(children=(IntProgress(value=1, bar_style='info', max=1), HTML(value='')))"
      ]
     },
     "metadata": {},
     "output_type": "display_data"
    },
    {
     "data": {
      "application/vnd.jupyter.widget-view+json": {
       "model_id": "8b165f99e69b41c58097a1450b2a7505",
       "version_major": 2,
       "version_minor": 0
      },
      "text/plain": [
       "HBox(children=(IntProgress(value=0, max=166), HTML(value='')))"
      ]
     },
     "metadata": {},
     "output_type": "display_data"
    },
    {
     "name": "stdout",
     "output_type": "stream",
     "text": [
      "\n",
      "\n"
     ]
    },
    {
     "data": {
      "application/vnd.jupyter.widget-view+json": {
       "model_id": "fa0de54ee00a496dbac09245eed396c3",
       "version_major": 2,
       "version_minor": 0
      },
      "text/plain": [
       "HBox(children=(IntProgress(value=1, bar_style='info', max=1), HTML(value='')))"
      ]
     },
     "metadata": {},
     "output_type": "display_data"
    },
    {
     "data": {
      "application/vnd.jupyter.widget-view+json": {
       "model_id": "64bc909250944271baca5f4a742c357a",
       "version_major": 2,
       "version_minor": 0
      },
      "text/plain": [
       "HBox(children=(IntProgress(value=0, max=166), HTML(value='')))"
      ]
     },
     "metadata": {},
     "output_type": "display_data"
    },
    {
     "name": "stdout",
     "output_type": "stream",
     "text": [
      "\n",
      "\n"
     ]
    },
    {
     "data": {
      "application/vnd.jupyter.widget-view+json": {
       "model_id": "89ef481e270c4f61bed710e621f43b87",
       "version_major": 2,
       "version_minor": 0
      },
      "text/plain": [
       "HBox(children=(IntProgress(value=1, bar_style='info', max=1), HTML(value='')))"
      ]
     },
     "metadata": {},
     "output_type": "display_data"
    },
    {
     "data": {
      "application/vnd.jupyter.widget-view+json": {
       "model_id": "be3542e14bff461c9c61dc9d48515c1a",
       "version_major": 2,
       "version_minor": 0
      },
      "text/plain": [
       "HBox(children=(IntProgress(value=0, max=166), HTML(value='')))"
      ]
     },
     "metadata": {},
     "output_type": "display_data"
    },
    {
     "name": "stdout",
     "output_type": "stream",
     "text": [
      "\n",
      "\n",
      "\n"
     ]
    }
   ],
   "source": [
    "# sigma = np.exp(np.linspace(np.log(0.25), np.log(5), 16))\n",
    "\n",
    "# for i in tqdm_notebook(range(3775,3795)):\n",
    "#     grid_based_charge_train(str(i),sigma \\\n",
    "#                   ,'/home/caizefeng/ml_dft/ML_DFT_03272019/data/chgcar')"
   ]
  },
  {
   "cell_type": "markdown",
   "metadata": {},
   "source": [
    "1601.92s/it"
   ]
  },
  {
   "cell_type": "code",
   "execution_count": 41,
   "metadata": {
    "ExecuteTime": {
     "end_time": "2019-09-12T16:33:08.830110Z",
     "start_time": "2019-09-12T16:33:08.800511Z"
    },
    "code_folding": []
   },
   "outputs": [],
   "source": [
    "def split_read_chgcar(dir_name, parent_path=''):\n",
    "    chgcar_name = '/'.join((parent_path, dir_name, 'CHGCAR'))\n",
    "    with open(chgcar_name, 'r') as f:\n",
    "        f_vec = open(chgcar_name + '_vec', 'w')\n",
    "        f_chg = open(chgcar_name + '_chg', 'w')\n",
    "        for line_num, line in enumerate(f):\n",
    "            if line_num < 8:\n",
    "                if line_num == 1:\n",
    "                    scaling = float(line.split()[0])\n",
    "                elif (line_num >= 2) and (line_num <= 4):\n",
    "                    f_vec.write(line.rstrip() + '\\n')\n",
    "                elif line_num == 5:\n",
    "                    atom_list = line.split()\n",
    "                    atom_type_num = len(atom_list)\n",
    "                elif line_num == 6:\n",
    "                    atom_num_list = [int(i) for i in line.split()]\n",
    "                    atom_num = sum(atom_num_list)\n",
    "                    phantom_list = list(atom_num_list)  # copy the list\n",
    "                    phantom_list.insert(0, 0)\n",
    "                    # for cumulative summation after\n",
    "                    phantom_list_np = np.cumsum(np.array(phantom_list))\n",
    "                    f_coor = list(range(atom_type_num))\n",
    "                    for index in range(atom_type_num):\n",
    "                        f_coor[index] = open(chgcar_name + '_coor_' +\n",
    "                                             str(index), 'w')   \n",
    "            else:\n",
    "                if line_num < 10 + atom_num:\n",
    "                    if line_num <= (7 + atom_num):\n",
    "                        j = 0\n",
    "                        while j <= atom_type_num - 1:\n",
    "                            if (8 + phantom_list_np[j]) <= line_num <= (7 + phantom_list_np[j+1]):\n",
    "                                f_coor[j].write(line.rstrip() + '\\n')\n",
    "                                break\n",
    "                            j += 1\n",
    "                    elif line_num == (9 + atom_num):\n",
    "                        ngxf, ngyf, ngzf = [int(i) for i in line.split()]\n",
    "                        ngf = ngxf * ngyf * ngzf\n",
    "                        chg_line_num = ngf // 5\n",
    "                        chg_space = 5 - ngf % 5\n",
    "                else:\n",
    "                    if (line_num >= (10 + atom_num)) and (line_num <= (9 + atom_num + chg_line_num)):\n",
    "                        f_chg.write(line.rstrip() + '\\n')\n",
    "                    elif chg_space != 5:\n",
    "                        # lines is multiples of 5 or not determines whether patching is needed\n",
    "                        if line_num == (10 + atom_num + chg_line_num):\n",
    "                            f_chg.write(line.rstrip() +\n",
    "                                        chg_space * ' 0' + '\\n')\n",
    "        f_vec.close()\n",
    "        for i in range(atom_type_num):\n",
    "            f_coor[i].close()\n",
    "        f_chg.close()\n",
    "\n",
    "    vec = scaling * np.loadtxt(chgcar_name + '_vec', dtype=np.float64)\n",
    "    coor_list = []\n",
    "    for index in range(atom_type_num):\n",
    "        coor_list.append(np.loadtxt(chgcar_name + '_coor_' +\n",
    "                                    str(index), dtype=np.float64))\n",
    "    chg = np.loadtxt(chgcar_name + '_chg', dtype=np.float64)\n",
    "\n",
    "    return vec, coor_list, chg, ngxf, ngyf, ngzf"
   ]
  },
  {
   "cell_type": "code",
   "execution_count": 41,
   "metadata": {
    "ExecuteTime": {
     "end_time": "2019-09-12T16:33:08.830110Z",
     "start_time": "2019-09-12T16:33:08.800511Z"
    },
    "code_folding": []
   },
   "outputs": [],
   "source": [
    "def read_poscar(dir_name, parent_path=''):\n",
    "    poscar_name = '/'.join((parent_path, dir_name, 'POSCAR'))\n",
    "    with open(poscar_name, 'r') as f:\n",
    "        f_vec = open(poscar_name + '_vec', 'w')\n",
    "#         f_chg = open(chgcar_name + '_chg', 'w')\n",
    "        for line_num, line in enumerate(f):\n",
    "            if line_num < 8:\n",
    "                if line_num == 1:\n",
    "                    scaling = float(line.split()[0])\n",
    "                elif (line_num >= 2) and (line_num <= 4):\n",
    "                    f_vec.write(line.rstrip() + '\\n')\n",
    "                elif line_num == 5:\n",
    "                    atom_list = line.split()\n",
    "                    atom_type_num = len(atom_list)\n",
    "                elif line_num == 6:\n",
    "                    atom_num_list = [int(i) for i in line.split()]\n",
    "                    atom_num = sum(atom_num_list)\n",
    "                    phantom_list = list(atom_num_list)  # copy the list\n",
    "                    phantom_list.insert(0, 0)\n",
    "                    # for cumulative summation after\n",
    "                    phantom_list_np = np.cumsum(np.array(phantom_list))\n",
    "                    f_coor = list(range(atom_type_num))\n",
    "                    for index in range(atom_type_num):\n",
    "                        f_coor[index] = open(chgcar_name + '_coor_' +\n",
    "                                             str(index), 'w')\n",
    "                elif line_num == 7:\n",
    "                    is_cart = list(line.split()[0])[0] == 'C'\n",
    "            \n",
    "            elif line_num < 10 + atom_num:\n",
    "                if line_num <= (7 + atom_num):\n",
    "                    j = 0\n",
    "                    while j <= atom_type_num - 1:\n",
    "                        if (8 + phantom_list_np[j]) <= line_num <= (7 + phantom_list_np[j+1]):\n",
    "                            f_coor[j].write(line.rstrip() + '\\n')\n",
    "                            break\n",
    "                        j += 1\n",
    "\n",
    "#                     elif line_num == (9 + atom_num):\n",
    "#                         ngxf, ngyf, ngzf = [int(i) for i in line.split()]\n",
    "#                         ngf = ngxf * ngyf * ngzf\n",
    "#                         chg_line_num = ngf // 5\n",
    "#                         chg_space = 5 - ngf % 5\n",
    "#                 else:\n",
    "#                     if (line_num >= (10 + atom_num)) and (line_num <= (9 + atom_num + chg_line_num)):\n",
    "#                         f_chg.write(line.rstrip() + '\\n')\n",
    "#                     elif chg_space != 5:\n",
    "#                         # lines is multiples of 5 or not determines whether patching is needed\n",
    "#                         if line_num == (10 + atom_num + chg_line_num):\n",
    "#                             f_chg.write(line.rstrip() +\n",
    "#                                         chg_space * ' 0' + '\\n')\n",
    "        f_vec.close()\n",
    "        for i in range(atom_type_num):\n",
    "            f_coor[i].close()\n",
    "#         f_chg.close()\n",
    "\n",
    "    vec = scaling * np.loadtxt(chgcar_name + '_vec', dtype=np.float64)\n",
    "    coor_list = []\n",
    "    for index in range(atom_type_num):\n",
    "        coor_list.append(np.loadtxt(chgcar_name + '_coor_' +\n",
    "                                    str(index), dtype=np.float64))\n",
    "\n",
    "    return vec, coor_list, is_cart"
   ]
  },
  {
   "cell_type": "code",
   "execution_count": null,
   "metadata": {},
   "outputs": [],
   "source": [
    "def read_incar(tag,dir_name, parent_path=''):\n",
    "    incar_name = '/'.join((parent_path, dir_name, 'INCAR'))"
   ]
  },
  {
   "cell_type": "code",
   "execution_count": 46,
   "metadata": {
    "ExecuteTime": {
     "end_time": "2019-09-12T16:33:11.474013Z",
     "start_time": "2019-09-12T16:33:11.468384Z"
    },
    "code_folding": []
   },
   "outputs": [],
   "source": [
    "def dir2cart(vec, coor_list):\n",
    "    return [coor @ vec for coor in coor_list]"
   ]
  },
  {
   "cell_type": "code",
   "execution_count": 47,
   "metadata": {
    "ExecuteTime": {
     "end_time": "2019-09-12T16:33:12.388094Z",
     "start_time": "2019-09-12T16:33:11.889980Z"
    },
    "code_folding": []
   },
   "outputs": [],
   "source": [
    "@jit([\"float64[:,:](uint16, uint16, uint16, float64[:,:])\"], nopython=True)\n",
    "def grid_gen_nb(ngxf, ngyf, ngzf, vec):\n",
    "    grid_coor = np.zeros((ngxf*ngyf*ngzf, 3))\n",
    "    index = 0\n",
    "    for z in np.linspace(0, 1, ngzf + 1):\n",
    "        if z == 1:  # jit can optimize \"endpoint\" argument. manually instead\n",
    "            continue\n",
    "        for y in np.linspace(0, 1, ngyf + 1):\n",
    "            if y == 1:\n",
    "                continue\n",
    "            for x in np.linspace(0, 1, ngxf + 1):\n",
    "                if x == 1:\n",
    "                    continue\n",
    "                grid_coor[index] = np.array([x, y, z]) @ vec\n",
    "                index += 1\n",
    "    return grid_coor"
   ]
  },
  {
   "cell_type": "code",
   "execution_count": 48,
   "metadata": {
    "ExecuteTime": {
     "end_time": "2019-09-12T16:33:12.751291Z",
     "start_time": "2019-09-12T16:33:12.390674Z"
    },
    "code_folding": []
   },
   "outputs": [],
   "source": [
    "@jit([\"float64[:,:,:](float64[:,:], float64[:,:])\"], nopython=True)\n",
    "def comp_gen(grid_coor, coor_cart):  # components of xyz direction\n",
    "\n",
    "    dist_arr = np.zeros((grid_coor.shape[0], coor_cart.shape[0], 4))\n",
    "    for axis in range(3):\n",
    "        for grid in range(grid_coor.shape[0]):\n",
    "            dist_arr[grid, :, axis + 1] = coor_cart[:, axis] - \\\n",
    "                grid_coor[grid, axis]\n",
    "\n",
    "    return dist_arr"
   ]
  },
  {
   "cell_type": "code",
   "execution_count": 49,
   "metadata": {
    "ExecuteTime": {
     "end_time": "2019-09-12T16:33:12.862740Z",
     "start_time": "2019-09-12T16:33:12.754066Z"
    },
    "code_folding": []
   },
   "outputs": [],
   "source": [
    "@jit([\"float64[:,:,:](float64[:,:,:], float64[:,:], float64[:,:])\"])\n",
    "def dist_gen(dist_arr, grid_coor, coor_cart):\n",
    "    dist_arr[:, :, 0] = distance.cdist(grid_coor, coor_cart, 'euclidean')\n",
    "    return dist_arr"
   ]
  },
  {
   "cell_type": "code",
   "execution_count": 50,
   "metadata": {
    "ExecuteTime": {
     "end_time": "2019-09-12T16:33:14.365030Z",
     "start_time": "2019-09-12T16:33:14.356086Z"
    },
    "code_folding": []
   },
   "outputs": [],
   "source": [
    "def batch_gen(dist_arr, batch_size):\n",
    "    batch_num = dist_arr.shape[0] // batch_size\n",
    "    sep_list = [batch_size * (i+1) for i in range(batch_num)]\n",
    "    return np.split(dist_arr, sep_list)"
   ]
  },
  {
   "cell_type": "code",
   "execution_count": 51,
   "metadata": {
    "ExecuteTime": {
     "end_time": "2019-09-12T16:33:15.188766Z",
     "start_time": "2019-09-12T16:33:15.024410Z"
    },
    "code_folding": []
   },
   "outputs": [],
   "source": [
    "@jit([\"int64[:,:](float64[:,:], float64)\"], nopython=True)\n",
    "def cutoff_gen(array_in, r_cutoff):\n",
    "    return np.where(array_in > r_cutoff, 0, 1)"
   ]
  },
  {
   "cell_type": "code",
   "execution_count": 52,
   "metadata": {
    "ExecuteTime": {
     "end_time": "2019-09-12T16:33:19.605750Z",
     "start_time": "2019-09-12T16:33:16.029287Z"
    },
    "code_folding": []
   },
   "outputs": [],
   "source": [
    "@jit('Tuple((float64[:,:,:], float64[:,:,:], float64[:,:,:,:]))(float64[:,:,:], float64[:])', nopython=True, parallel=True)\n",
    "def des_rudi_gen(dist_arr, sigma):  # generate feature without invariance\n",
    "    sigma_size = sigma.size\n",
    "    s_ini = np.zeros((dist_arr.shape[0], 1, sigma_size))\n",
    "    v_ini = np.zeros((dist_arr.shape[0], 3, sigma_size))\n",
    "    t_ini = np.zeros((dist_arr.shape[0], 3, 3, sigma_size))\n",
    "    f_cutoff = cutoff_gen(dist_arr[:, :, 0], 9)\n",
    "    gauss_ini = np.exp(- (dist_arr[:, :, 0]**2) / 2) * f_cutoff\n",
    "\n",
    "    for index, sig in enumerate(sigma):\n",
    "        c_k = 1/((2*np.pi)**1.5 * sig**3)\n",
    "        gauss = gauss_ini ** (1/sig ** 2)\n",
    "        vari = 2 * sig**2\n",
    "        vari_square = vari ** 2\n",
    "\n",
    "        s_ini[:, 0, index] = c_k * \\\n",
    "            np.sum(gauss,\n",
    "                   axis=1)\n",
    "        for i in range(3):\n",
    "            v_ini[:, i, index] = c_k * \\\n",
    "                np.sum(dist_arr[:, :, i + 1]/vari * gauss,\n",
    "                       axis=1)\n",
    "\n",
    "        for i in range(3):\n",
    "            for j in range(3):\n",
    "                t_ini[:, i, j, index] = c_k * \\\n",
    "                    np.sum(dist_arr[:, :, i + 1] * dist_arr[:, :, j + 1]/vari_square * gauss,\n",
    "                           axis=1)\n",
    "    return s_ini, v_ini, t_ini"
   ]
  },
  {
   "cell_type": "code",
   "execution_count": 53,
   "metadata": {
    "ExecuteTime": {
     "end_time": "2019-09-12T16:33:22.794903Z",
     "start_time": "2019-09-12T16:33:19.608578Z"
    },
    "code_folding": []
   },
   "outputs": [],
   "source": [
    "@jit(['float64[:,:](float64[:,:,:],float64[:,:,:],float64[:,:,:,:])'], nopython=True, parallel=True)\n",
    "def invar_gen(s_ini, v_ini, t_ini):  # process feature for rotational invariance\n",
    "    des_arr = np.zeros((s_ini.shape[0], 5 * s_ini.shape[2]))\n",
    "    sigma_size = s_ini.shape[2]\n",
    "    for index in range(sigma_size):\n",
    "\n",
    "        des_arr[:, index] = s_ini[:, 0, index]\n",
    "\n",
    "        des_arr[:, index + sigma_size] = np.sqrt(np.sum(\n",
    "            v_ini[:, :, index] ** 2, axis=1))\n",
    "\n",
    "# printed wrong version\n",
    "#         des_arr[:, index + 2 * sigma_size] = t_ini[:, 0, 0, index] ** 2 + \\\n",
    "#             t_ini[:, 1, 1, index] ** 2 + t_ini[:, 2, 2, index] ** 2\n",
    "\n",
    "        des_arr[:, index + 2 * sigma_size] = t_ini[:, 0, 0, index] + \\\n",
    "            t_ini[:, 1, 1, index] + t_ini[:, 2, 2, index]\n",
    "\n",
    "        des_arr[:, index + 3 * sigma_size] = t_ini[:, 0, 0, index] * \\\n",
    "            t_ini[:, 1, 1, index] + t_ini[:, 1, 1, index] * t_ini[:, 2, 2, index] \\\n",
    "            + t_ini[:, 0, 0, index] * t_ini[:, 2, 2, index] - \\\n",
    "            t_ini[:, 0, 1, index] ** 2 - t_ini[:, 1, 2, index] ** 2 \\\n",
    "            - t_ini[:, 0, 2, index] ** 2\n",
    "\n",
    "        des_arr[:, index + 4 * sigma_size] = \\\n",
    "            t_ini[:, 0, 0, index] * (t_ini[:, 1, 1, index]*t_ini[:, 2, 2, index]-t_ini[:, 1, 2, index]*t_ini[:, 2, 1, index]) \\\n",
    "            - t_ini[:, 0, 1, index] * (t_ini[:, 1, 0, index]*t_ini[:, 2, 2, index]-t_ini[:, 1, 2, index]*t_ini[:, 2, 0, index]) \\\n",
    "            + t_ini[:, 0, 2, index]*(t_ini[:, 1, 0, index]*t_ini[:, 2,\n",
    "                                                                 1, index]-t_ini[:, 1, 1, index]*t_ini[:, 2, 0, index])\n",
    "\n",
    "    return des_arr"
   ]
  },
  {
   "cell_type": "code",
   "execution_count": null,
   "metadata": {},
   "outputs": [],
   "source": []
  },
  {
   "cell_type": "code",
   "execution_count": null,
   "metadata": {},
   "outputs": [],
   "source": []
  },
  {
   "cell_type": "code",
   "execution_count": null,
   "metadata": {},
   "outputs": [],
   "source": []
  }
 ],
 "metadata": {
  "kernelspec": {
   "display_name": "Python 3",
   "language": "python",
   "name": "python3"
  },
  "language_info": {
   "codemirror_mode": {
    "name": "ipython",
    "version": 3
   },
   "file_extension": ".py",
   "mimetype": "text/x-python",
   "name": "python",
   "nbconvert_exporter": "python",
   "pygments_lexer": "ipython3",
   "version": "3.7.3"
  }
 },
 "nbformat": 4,
 "nbformat_minor": 2
}
